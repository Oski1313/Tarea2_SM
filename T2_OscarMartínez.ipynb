{
 "cells": [
  {
   "cell_type": "markdown",
   "metadata": {},
   "source": [
    "# Resumenes de los artículos:\n",
    "\n",
    "## Programming language of the year? Python is standout in latest rankings\n",
    "Creado en 1989 por el holandés Guido van Rossum, el legunaje de programación Pyhton le ganó en popularidad a lenguajes clásicos como JavaScript en el índice de Tiobe en el 2019. \n",
    "\n",
    "En años reciente, es el primer lenguaje enseñado en universisades, popular con hackers, y para todo tipo de ciencia computacional. En enero del 2019, Python se encontró en el tercer lugar del lenguaje más popular, siendo vencido solo por C y Java.\n",
    "\n",
    "##\n"
   ]
  }
 ],
 "metadata": {
  "kernelspec": {
   "display_name": "Python 3",
   "language": "python",
   "name": "python3"
  },
  "language_info": {
   "codemirror_mode": {
    "name": "ipython",
    "version": 3
   },
   "file_extension": ".py",
   "mimetype": "text/x-python",
   "name": "python",
   "nbconvert_exporter": "python",
   "pygments_lexer": "ipython3",
   "version": "3.8.3"
  }
 },
 "nbformat": 4,
 "nbformat_minor": 4
}

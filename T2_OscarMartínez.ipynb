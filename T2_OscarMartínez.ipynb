{
 "cells": [
  {
   "cell_type": "markdown",
   "metadata": {},
   "source": [
    "# Resumenes de los artículos:\n",
    "\n",
    "## Programming language of the year? Python is standout in latest rankings\n",
    "Creado en 1989 por el holandés Guido van Rossum, el legunaje de programación Pyhton le ganó en popularidad a lenguajes clásicos como JavaScript en el índice de Tiobe en el 2019. \n",
    "\n",
    "En años reciente, es el primer lenguaje enseñado en universisades, popular con hackers, y para todo tipo de ciencia computacional. En enero del 2019, Python se encontró en el tercer lugar del lenguaje más popular, siendo vencido solo por C y Java.\n",
    "\n",
    "## 5 reasons you should learn Python now\n",
    "El siguiente articulo nos da unas cuantas razones por las que Python se ha vuelto uno de los lenguajes de progamación más populares de nuestra era. Explica como Python es util al ser muy fácil de usar, tmabien siendo muy flexible para poder hacer muchas cosas en tus primeros días con el.\n",
    "\n",
    "El articulo nos dice como empresas gigantes como Dropbox o Google usan este lenguaje. Dropbox esta escrito completamente en Python, mientras que Google usa \"Python donde se pueda, y C++ donde debamos\".\n",
    "\n",
    "Otra razón de su popularidad es que la comunidad de Python se enorgullece en crear vastas librerias usando el lenguaje de programación. Ya sea PyGame para progrmar juegos o SciPy para ciencia de datos,existe una gran posibilidad de que halla una libreria de Python para tu uso deaseado.\n"
   ]
  }
 ],
 "metadata": {
  "kernelspec": {
   "display_name": "Python 3",
   "language": "python",
   "name": "python3"
  },
  "language_info": {
   "codemirror_mode": {
    "name": "ipython",
    "version": 3
   },
   "file_extension": ".py",
   "mimetype": "text/x-python",
   "name": "python",
   "nbconvert_exporter": "python",
   "pygments_lexer": "ipython3",
   "version": "3.8.3"
  }
 },
 "nbformat": 4,
 "nbformat_minor": 4
}
